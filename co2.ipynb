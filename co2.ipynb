{
 "cells": [
  {
   "cell_type": "markdown",
   "metadata": {},
   "source": [
    "Calculs coûts de t CO2 évitée pour étude ATEC Car Express"
   ]
  },
  {
   "cell_type": "markdown",
   "metadata": {},
   "source": [
    "# Briis/Forge"
   ]
  },
  {
   "cell_type": "markdown",
   "metadata": {},
   "source": [
    "761000 voyages en 2019\n",
    "entre 80 et 85 services / jour /sens\n",
    "1,4 Mkm / an\n",
    "\n"
   ]
  },
  {
   "cell_type": "code",
   "execution_count": 2,
   "metadata": {},
   "outputs": [
    {
     "data": {
      "text/plain": [
       "1150220.0"
      ]
     },
     "execution_count": 2,
     "metadata": {},
     "output_type": "execute_result"
    }
   ],
   "source": [
    "# recettes : 761000 voyages / 225x2 = 1700 A/R / j dont 10% gratuits, 10% ticket 1,7€, 80% abonnés 1700x0.8x75x10 mois + 766000x0.1x1.7\n",
    "1700*0.8*75*10  + 766000*0.1*1.7"
   ]
  },
  {
   "cell_type": "code",
   "execution_count": 14,
   "metadata": {},
   "outputs": [
    {
     "name": "stdout",
     "output_type": "stream",
     "text": [
      "3.3000000000000003\n",
      "0.2584269662921348\n"
     ]
    }
   ],
   "source": [
    "# D - R = 4,2 - 1,15\n",
    "D=4.2\n",
    "R=1.15\n",
    "gare=0.25\n",
    "print(D+gare-R)\n",
    "print(R/(D+gare))"
   ]
  },
  {
   "cell_type": "markdown",
   "metadata": {},
   "source": [
    "    • 100% de report modal, soit 761 000 trajets parcourus\n",
    "    • Une moyenne de kilomètres parcourus de 22.5 km en moyenne\n",
    "    • Des émissions réelles de CO2 par km parcourus en voiture de 160 g\n",
    "    • Des émissions des autocars de 880g/km x (1.4 million de km/an) représentent 1240 t de CO2 émises sur une année"
   ]
  },
  {
   "cell_type": "code",
   "execution_count": 9,
   "metadata": {},
   "outputs": [
    {
     "name": "stdout",
     "output_type": "stream",
     "text": [
      "1232000.0 2739600.0 1507600.0\n"
     ]
    }
   ],
   "source": [
    "# 1230 t de CO2 émises par les cars\n",
    "cars=.880*1400000\n",
    "# 761000 trajets x 22,5 km x 160 g/km pour la VP\n",
    "vp=.160*22.5*761000\n",
    "print(cars,vp,vp-cars)\n",
    "# 1500 t évitées"
   ]
  },
  {
   "cell_type": "code",
   "execution_count": 15,
   "metadata": {},
   "outputs": [
    {
     "name": "stdout",
     "output_type": "stream",
     "text": [
      "cout t co2 évitée 2200.0  euros\n"
     ]
    }
   ],
   "source": [
    "# 3M€ / 1500 t\n",
    "print (\"cout t co2 évitée\",3300000/1500,\" euros\")"
   ]
  },
  {
   "cell_type": "markdown",
   "metadata": {},
   "source": [
    "# Créon - Bordeaux"
   ]
  },
  {
   "cell_type": "markdown",
   "metadata": {},
   "source": [
    "29+30 services / j\n",
    "30 km de trajet\n",
    "2 €/km : 600000 km pour D=1250k€\n",
    "750 voyages/j\n",
    "recettes 50% abo + 50% tickets (375 abonnés x 40 € x 10 mois et 375 x 1.8 € x 251j)"
   ]
  },
  {
   "cell_type": "code",
   "execution_count": 21,
   "metadata": {},
   "outputs": [
    {
     "name": "stdout",
     "output_type": "stream",
     "text": [
      "319425.0\n",
      "930575.0\n",
      "0.25554\n"
     ]
    }
   ],
   "source": [
    "D=1250000\n",
    "R=375 * 40* 10  + 375 * 1.8 * 251\n",
    "print(R)\n",
    "print(D-R)\n",
    "print(R/D)"
   ]
  },
  {
   "cell_type": "code",
   "execution_count": 29,
   "metadata": {},
   "outputs": [
    {
     "name": "stdout",
     "output_type": "stream",
     "text": [
      "192457764.0\n",
      "924081600\n",
      "585.2990688000001\n",
      "1589.913686191055\n"
     ]
    }
   ],
   "source": [
    "# émissions car : 7.6g de CO2/place km, émissions/an= 251 j x 30 km x 59 courses x 57 places x 7.6 g\n",
    "car=251*30*59*57*7.6\n",
    "print(car)\n",
    "# 190t\n",
    "# émissions VP : 251 j x 30 km x 767 trajets x 160 g\n",
    "vp=251 *30 * 767 * 160\n",
    "print(vp)\n",
    "# avec un report modal de 80%\n",
    "evite=0.8*(vp-car)/1000000\n",
    "print(evite)\n",
    "# \n",
    "print((D-R)/evite)"
   ]
  },
  {
   "cell_type": "markdown",
   "metadata": {},
   "source": [
    "# 3. Ligne 50 Aix-Marseille"
   ]
  },
  {
   "cell_type": "markdown",
   "metadata": {},
   "source": [
    "3M voyages / an \n",
    "trajet 30 km\n",
    "3M km / an\n",
    "3,2€/km\n",
    "coût lignez 9,6MHT/an\n",
    "recettes tickets à bord 3.2M€\n",
    "abonnés estimés à (sans doute surestimés) 50% x 13000 voyageurs/j : 3250 A/R x 33€ x 10mois\n"
   ]
  },
  {
   "cell_type": "code",
   "execution_count": 34,
   "metadata": {},
   "outputs": [
    {
     "name": "stdout",
     "output_type": "stream",
     "text": [
      "4272500\n",
      "7247500.0\n",
      "0.3708767361111111\n"
     ]
    }
   ],
   "source": [
    "R=3200000+ 3250*33*10\n",
    "D=9600000*1.20\n",
    "print(R)\n",
    "print(D-R)\n",
    "print(R/D)"
   ]
  },
  {
   "cell_type": "code",
   "execution_count": 32,
   "metadata": {},
   "outputs": [
    {
     "name": "stdout",
     "output_type": "stream",
     "text": [
      "4272500\n"
     ]
    }
   ],
   "source": [
    "print(R)"
   ]
  },
  {
   "cell_type": "code",
   "execution_count": 38,
   "metadata": {},
   "outputs": [
    {
     "name": "stdout",
     "output_type": "stream",
     "text": [
      "12480.0\n",
      "580.7291666666666\n"
     ]
    }
   ],
   "source": [
    "# CO2 VP 30km x 160 g/km = 4.8kg par voyage\n",
    "# CO2 car  880 g/km / 30 pass/car x 30 km = 880 g par voyage\n",
    "# delta = 3.920 kg par voyage env 4kg\n",
    "# si 100% de repot modal : total économisé théorique serait de 4 kg x 240 j x 6 500 x 2 AR\n",
    "evite=0.004*240*6500*2\n",
    "print(evite)\n",
    "# cout t CO2 evitée\n",
    "print((D-R)/evite)"
   ]
  },
  {
   "cell_type": "markdown",
   "metadata": {},
   "source": [
    "# 4. EXP1 Isère"
   ]
  },
  {
   "cell_type": "markdown",
   "metadata": {},
   "source": [
    "56 A/R/j\n",
    "27+27 km\n",
    "5000 voy /j environ, 1,2 M voyages/an\n",
    "Le coût d'exploitation pour 240 jours ouvrés par an avec une hypothèse de coût de 3€/km serait de 240 x 4 x 2 x 56 x 56 \n",
    "En supposant que les abonnés représentent 80% des 2500 usagers quotidiens, les occasionnels 10% et les 10 % autres bénéficiant de la gratuité. Les recettes représenteraient 10 mois x 0,8 x 2500 x 60 € + 240j x 250 x 8,4 € : on trouve 1,7M€ annuels soit un R/D de 38%."
   ]
  },
  {
   "cell_type": "code",
   "execution_count": 41,
   "metadata": {},
   "outputs": [
    {
     "name": "stdout",
     "output_type": "stream",
     "text": [
      "4515840\n",
      "1704000.0\n",
      "2811840.0\n",
      "0.3773384353741497\n"
     ]
    }
   ],
   "source": [
    "D=240*3*56*56*2\n",
    "print(D)\n",
    "R= 0.8*10*60*2500+240*2500*0.1*8.4\n",
    "print(R)\n",
    "print(D-R)\n",
    "print(R/D)"
   ]
  },
  {
   "cell_type": "code",
   "execution_count": 44,
   "metadata": {},
   "outputs": [
    {
     "name": "stdout",
     "output_type": "stream",
     "text": [
      "5184.0 1583.9999999999998 3600.0\n"
     ]
    }
   ],
   "source": [
    "# CO2 1 vp SUR 54KM X 160G/KM\n",
    "# en VP le trajet moyen sera plutot de 27 pas la totalité du trajet\n",
    "# hypothèse 100% de report modal des 1.2M voyages\n",
    "vp=27*160*1e-6*1.2e6\n",
    "# CO2 car remplissage env 30 (1.2M voyageurs pour 2*56 courses par jour x 300 jours = +30000 courses)\n",
    "# 1 voyage en car émet 0.880 kg x 54 km / 30 = 1,6kg \n",
    "car=880*(1e-6)*54/30*1e6\n",
    "print(vp,car,vp-car)"
   ]
  },
  {
   "cell_type": "code",
   "execution_count": null,
   "metadata": {},
   "outputs": [],
   "source": []
  }
 ],
 "metadata": {
  "kernelspec": {
   "display_name": "Python 3",
   "language": "python",
   "name": "python3"
  },
  "language_info": {
   "codemirror_mode": {
    "name": "ipython",
    "version": 3
   },
   "file_extension": ".py",
   "mimetype": "text/x-python",
   "name": "python",
   "nbconvert_exporter": "python",
   "pygments_lexer": "ipython3",
   "version": "3.7.6"
  }
 },
 "nbformat": 4,
 "nbformat_minor": 4
}
